{
 "cells": [
  {
   "cell_type": "code",
   "execution_count": 15,
   "id": "7363921d",
   "metadata": {},
   "outputs": [],
   "source": [
    "class Dog:\n",
    "    def __init__(self, name,breed):\n",
    "        self.name = name\n",
    "        self.breed = breed\n",
    "        self.num_of_woofs =0\n",
    "        print(\"dog initialized!\")\n",
    "        \n",
    "    def bark(self):\n",
    "        print(\"Woof!\")\n",
    "        self.num_of_woofs += 1\n"
   ]
  },
  {
   "cell_type": "code",
   "execution_count": 19,
   "id": "5a9ac104",
   "metadata": {},
   "outputs": [
    {
     "name": "stdout",
     "output_type": "stream",
     "text": [
      "dog initialized!\n"
     ]
    }
   ],
   "source": [
    "myDog = Dog('Rex','Great Dog')"
   ]
  },
  {
   "cell_type": "code",
   "execution_count": 22,
   "id": "725b1686",
   "metadata": {},
   "outputs": [
    {
     "name": "stdout",
     "output_type": "stream",
     "text": [
      "Woof!\n"
     ]
    }
   ],
   "source": [
    "myDog.bark()"
   ]
  },
  {
   "cell_type": "code",
   "execution_count": 23,
   "id": "177d0fca",
   "metadata": {},
   "outputs": [
    {
     "data": {
      "text/plain": [
       "2"
      ]
     },
     "execution_count": 23,
     "metadata": {},
     "output_type": "execute_result"
    }
   ],
   "source": [
    "myDog.num_of_woofs"
   ]
  },
  {
   "cell_type": "code",
   "execution_count": null,
   "id": "6d56cfc0",
   "metadata": {},
   "outputs": [],
   "source": []
  }
 ],
 "metadata": {
  "jupytext": {
   "formats": "ipynb,auto:light"
  },
  "kernelspec": {
   "display_name": "Python 3 (ipykernel)",
   "language": "python",
   "name": "python3"
  },
  "language_info": {
   "codemirror_mode": {
    "name": "ipython",
    "version": 3
   },
   "file_extension": ".py",
   "mimetype": "text/x-python",
   "name": "python",
   "nbconvert_exporter": "python",
   "pygments_lexer": "ipython3",
   "version": "3.8.10"
  }
 },
 "nbformat": 4,
 "nbformat_minor": 5
}
